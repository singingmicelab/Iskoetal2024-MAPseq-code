{
 "cells": [
  {
   "cell_type": "code",
   "execution_count": 1,
   "metadata": {},
   "outputs": [],
   "source": [
    "###### load packages\n",
    "import pandas as pd\n",
    "import numpy as np\n",
    "import matplotlib.pyplot as plt\n",
    "import seaborn as sns\n",
    "import math\n",
    "from scipy import stats\n",
    "from statsmodels.distributions.empirical_distribution import ECDF # for generating empirical cdfs\n",
    "import matplotlib.lines as mlines # needed for custom legend\n",
    "\n",
    "\n",
    "# needed for editable text in svg format\n",
    "plt.rcParams['font.family'] = ['sans-serif']\n",
    "plt.rcParams['font.sans-serif'] = ['Arial']\n",
    "plt.rcParams['text.usetex'] = False\n",
    "plt.rcParams['svg.fonttype'] = 'none'\n",
    "\n",
    "\n",
    "# import metadata\n",
    "from M194_M220_metadata import *\n",
    "\n",
    "# import custom colormaps\n",
    "from colormaps import blue_cmp, orange_cmp\n",
    "# specify blue/orange colors for qualitative intervals/data\n",
    "blue_qual = [blue_cmp.colors[50], blue_cmp.colors[100], blue_cmp.colors[150], blue_cmp.colors[200], blue_cmp.colors[250]]\n",
    "orange_qual = [orange_cmp.colors[36], orange_cmp.colors[72], orange_cmp.colors[108], orange_cmp.colors[144], orange_cmp.colors[180], orange_cmp.colors[216], orange_cmp.colors[252]]\n",
    "\n",
    "\n",
    "%matplotlib inline"
   ]
  },
  {
   "cell_type": "markdown",
   "metadata": {},
   "source": [
    "# Load data"
   ]
  },
  {
   "cell_type": "code",
   "execution_count": 2,
   "metadata": {},
   "outputs": [],
   "source": [
    "# set-up in/out paths\n",
    "in_path = '/Volumes/Data/Emily/MAPseq/combined_analysis_M194_M220/processed_data/'\n",
    "out_path = '/Volumes/Data/Emily/figures/fig_2_mapseq/figure_pics/'"
   ]
  },
  {
   "cell_type": "code",
   "execution_count": 4,
   "metadata": {},
   "outputs": [],
   "source": [
    "omc_bin = pd.read_pickle(in_path+\"M194_M220_OMC_bin.pkl\")\n",
    "omc_countN = pd.read_pickle(in_path+\"M194_M220_OMC_countN.pkl\")"
   ]
  },
  {
   "cell_type": "markdown",
   "metadata": {},
   "source": [
    "# Functions"
   ]
  },
  {
   "cell_type": "markdown",
   "metadata": {},
   "source": [
    "## Processing functions"
   ]
  },
  {
   "cell_type": "code",
   "execution_count": 5,
   "metadata": {},
   "outputs": [],
   "source": [
    "def clean_up_data(df_dirty, to_drop = ['OB', 'ACAi', 'ACAc', 'HIP'], inj_site=\"OMCi\"):\n",
    "    \"\"\"Clean up datasets so all matrices are in the same format. Function \n",
    "        (1) drops unwanted columns, e.g. negative controls or dissections of other injection sites. \n",
    "        (2) renames RN (allen acronym) as BS (my brainstem acronym)\n",
    "        (3) drops neurons w/ 0 projections after dropped columns\n",
    "\n",
    "    Args:\n",
    "        df_dirty (DataFrame): Pandas dataframe (neurons x area) that needs to be processed\n",
    "        to_drop (list, optional): columns to drop. Defaults to ['OB', 'ACAi', 'ACAc', 'HIP'].\n",
    "        inj_site (str, optional): Injection site. Defaults to \"OMCi\".\n",
    "\n",
    "    Returns:\n",
    "        DataFrame: Cleaned up data in dataframe format.\n",
    "    \"\"\"\n",
    "\n",
    "    # 1. drop unused areas\n",
    "    dropped = df_dirty.drop(to_drop, axis=1)\n",
    "\n",
    "    # 2. change RN to bs\n",
    "    replaced = dropped.rename(columns={'RN':'BS'})\n",
    "\n",
    "    # 3. drop neurons w/ 0 projections after removing negative regions\n",
    "    if type(inj_site)==str:\n",
    "        nodes = replaced.drop([inj_site], axis=1).sum(axis=1)\n",
    "    else:\n",
    "        nodes = replaced.drop(inj_site, axis=1).sum(axis=1)\n",
    "    \n",
    "    n_idx = nodes > 0 # non-zero projecting neurons\n",
    "    clean = replaced[n_idx]\n",
    "    \n",
    "    return clean\n",
    "\n"
   ]
  },
  {
   "cell_type": "code",
   "execution_count": 6,
   "metadata": {},
   "outputs": [],
   "source": [
    "def sort_by_celltype(proj, it_areas=[\"OMCc\", \"AUD\", \"STR\"], ct_areas=[\"TH\"],\n",
    "                      pt_areas=[\"AMY\",\"HY\",\"SNr\",\"SCm\",\"PG\",\"PAG\",\"BS\"],\n",
    "                      sort=True):\n",
    "    \"\"\"\n",
    "    Function takes in projection matrix and outputs matrix sorted by the 3 major celltypes:\n",
    "    - IT = intratelencephalic (projects to cortical and/or Striatum), type = 10\n",
    "    - CT = corticalthalamic (projects to thalamus w/o projection to brainstem), type = 100\n",
    "    - PT = pyramidal tract (projects to brainstem += other areas), type = 1000\n",
    "    Returns single dataframe with cells sorted and labelled by 3 cell types (IT/CT/PT)\n",
    "\n",
    "    Args:\n",
    "        proj (DataFrame): pd.DataFrame of BC x area. Entries can be normalized BC or binary.\n",
    "        it_areas (list, optional): Areas to determine IT cells. Defaults to [\"OMCc\", \"AUD\", \"STR\"].\n",
    "        ct_areas (list, optional): Areas to determine CT cells. Defaults to [\"TH\"]. Don't actually use this...\n",
    "        pt_areas (list, optional): Areas to determine PT cells. Defaults to [\"AMY\",\"HY\",\"SNr\",\"SCm\",\"PG\",\"PAG\",\"BS\"].\n",
    "        sort (bool, optional): Whether to sort by cell type or return w/ original index. Defaults to True.\n",
    "    \n",
    "    Returns:\n",
    "        df_out (DataFrame): Returns dataframe with extra column (type) labelled and sorted by cell type\n",
    "    \"\"\"\n",
    "    \n",
    "    ds=proj.copy()\n",
    " \n",
    "    # Isolate PT cells\n",
    "    pt_counts = ds[pt_areas].sum(axis=1)\n",
    "    pt_idx = ds[pt_counts>0].index\n",
    "    ds_pt = ds.loc[pt_idx,:]\n",
    "    ds_pt['type'] = \"PT\"\n",
    "\n",
    "    # Isolate remaining non-PT cells\n",
    "    ds_npt = ds.drop(pt_idx)\n",
    "\n",
    "    # Identify CT cells by thalamus projection\n",
    "    th_idx = ds_npt['TH'] > 0\n",
    "    ds_th = ds_npt[th_idx]\n",
    "    if sort:\n",
    "        ds_th = ds_th.sort_values('TH', ascending=False)\n",
    "    ds_th['type'] = \"CT\"\n",
    "\n",
    "    # Identify IT cells by the remaining cells (non-PT, non-CT)\n",
    "    ds_nth = ds_npt[~th_idx]\n",
    "    if sort:\n",
    "        ds_nth = ds_nth.sort_values(it_areas,ascending=False)\n",
    "    ds_nth['type'] = \"IT\"\n",
    "\n",
    "    # combine IT and CT cells\n",
    "    ds_npt = pd.concat([ds_nth, ds_th])\n",
    "\n",
    "    # combine IT/CT and PT cells\n",
    "    if sort:\n",
    "        sorted = pd.concat([ds_npt,ds_pt],ignore_index=True)\n",
    "        df_out=sorted.reset_index(drop=True)\n",
    "    else:\n",
    "        df_out = pd.concat([ds_npt,ds_pt]).sort_index()\n",
    "\n",
    "    return(df_out)\n",
    "\n"
   ]
  },
  {
   "cell_type": "code",
   "execution_count": 7,
   "metadata": {},
   "outputs": [],
   "source": [
    "def dfs_preprocess_counts(df_list, drop=[\"type\"], \n",
    "                          norm_by=\"inj_median\", inj_site=\"OMCi\", medians=None):\n",
    "    \"\"\"Take dataframe and process it for downstream analysis. Can be binarized or \n",
    "    non-binarized data.\n",
    "\n",
    "    Args:\n",
    "        df_list (list): List of dataframes, \n",
    "        drop (list, optional): List of columns to drop before returning. Defaults to [\"OMCi\", \"type\"].\n",
    "        norm_by (str, optional): How to normalize counts. Can be \"inj_median\" or 'all_median' or \"given\". Defaults to \"inj_median\".\n",
    "        inj_site (str, optional): What column to use for injection norm. Defaults to \"OMCi\".\n",
    "        medians (list, optional): if norm_by==\"given\", uses list of medians (same length as df_list) to normalize dataframes. Defaults to None.\n",
    "\n",
    "    Returns:\n",
    "        out_list (list): List of dataframes same order as input list.\n",
    "    \"\"\"\n",
    "    \n",
    "    out_list = []\n",
    "    norms_out = []\n",
    "    for i in range(len(df_list)):\n",
    "        df = df_list[i].drop(drop, axis=1)\n",
    "\n",
    "        if norm_by==\"inj_row\":\n",
    "            # normalize on neuron by neuron basis to injection site value\n",
    "            out_df = df.div(df[inj_site], axis=0)\n",
    "        elif norm_by==\"given\":\n",
    "            out_df = df/medians[i]\n",
    "        elif norm_by==\"inj_mean\":\n",
    "            vals = df[inj_site].values.flatten()\n",
    "            mean = np.mean(vals)\n",
    "            norms_out.append(mean)\n",
    "            out_df = df/mean\n",
    "        else:\n",
    "            # normalize by non-zero median of injection site\n",
    "            if norm_by==\"inj_median\":\n",
    "                vals = df[inj_site].values.flatten() # added injection site median\n",
    "            # normalize by median of all non-zero values median across whole dataset\n",
    "            elif norm_by==\"all_median\":\n",
    "                vals = df.values.flatten()\n",
    "            idx = vals.nonzero() # only use non-zero ncounts for determining median\n",
    "            plot = vals[idx]\n",
    "            median = np.median(plot)\n",
    "            norms_out.append(median)\n",
    "            out_df = df/median\n",
    "\n",
    "        for j in range(len(drop)):\n",
    "            out_df[drop[j]] = df_list[i][drop[j]] # add dropped columns back in, can preserve labels\n",
    "        \n",
    "        out_list.append(out_df)\n",
    "\n",
    "    if len(norms_out)>0:\n",
    "        return(norms_out, out_list)\n",
    "    else:\n",
    "        return(out_list)"
   ]
  },
  {
   "cell_type": "code",
   "execution_count": 8,
   "metadata": {},
   "outputs": [],
   "source": [
    "def dfs_to_cdf(df_list, plot_areas, resolution=1000, metadata=metadata):\n",
    "    \"\"\"Takes in list of DFs of count(N) data and returns dataframe w/ cdf data that can be plotted.\n",
    "    Returned Dataframe includes metadata\n",
    "\n",
    "    Args:\n",
    "        df_list (list): list of DataFrames of count(N) data.\n",
    "        plot_areas (list): List of strings of areas to calculate cdfs.\n",
    "        resolution (int, optional): Used to determine resolution of cdf line. Defaults to 1000.\n",
    "        medatadata (df, optional): Metadata where row corresponds to df_list indices. Defaults to metadata.\n",
    "    Returns:\n",
    "        cdf_df (DataFrame): Dataframe of cdf summary values\n",
    "        all_ecdfs (list): Empirical cdf \n",
    "    \"\"\"\n",
    "\n",
    "    # combine all DFs into one df labelled w/ metadata\n",
    "    all_bc = pd.DataFrame(columns=list(df_list[0].columns)+[\"mice\", \"species\", \"dataset\"])\n",
    "    for i in range(metadata.shape[0]):\n",
    "        df = df_list[i].copy(deep=True)\n",
    "        df['mice'] = metadata.loc[i, 'mice']\n",
    "        df['species'] = metadata.loc[i, \"species\"]\n",
    "        df['dataset'] = metadata.loc[i, \"dataset\"]\n",
    "        all_bc = pd.concat([all_bc, df])\n",
    "\n",
    "    all_bc = all_bc.reset_index(drop=True)\n",
    "\n",
    "    cdf_df = pd.DataFrame(columns=[\"x\", \"cdf\", \"mice\", \"species\", \"dataset\", \"area\"])\n",
    "\n",
    "    all_ecdfs = {}\n",
    "\n",
    "    # calculate cdf by area, then add by mouse\n",
    "    for area in plot_areas:\n",
    "        # just use nonzero BC\n",
    "        area_idx = all_bc[area] > 0\n",
    "        area_bc = all_bc.loc[area_idx, [area, \"mice\", \"species\", \"dataset\"]]\n",
    "        # get min/max for each area to set cdf bounds\n",
    "        area_min = area_bc[area].min()\n",
    "        area_max = area_bc[area].max()\n",
    "\n",
    "        for i in range(metadata.shape[0]):\n",
    "            micei = metadata.loc[i, 'mice']\n",
    "            mice_bc = area_bc[area_bc['mice']==micei]\n",
    "            if mice_bc[area].sum()==0:\n",
    "                print(\"NO BARCODES, cannot compute ECDF for\", area, metadata.loc[i,'mice'])\n",
    "            else:\n",
    "                # print(area, metadata.loc[i,\"mice\"])\n",
    "                ecdf = ECDF(mice_bc[area])\n",
    "                x = np.logspace(np.log10(area_min), np.log10(area_max), num=resolution)\n",
    "                y = ecdf(x)\n",
    "\n",
    "                int = pd.DataFrame({\"x\":x, \"cdf\":y, \"mice\":metadata.loc[i,\"mice\"], \"species\":metadata.loc[i,\"species\"], \n",
    "                                    \"dataset\":metadata.loc[i,\"dataset\"], \"area\":area})\n",
    "                cdf_df = pd.concat([cdf_df, int])\n",
    "                all_ecdfs[micei+\"_\"+area] = ecdf\n",
    "\n",
    "    return(cdf_df, all_ecdfs)"
   ]
  },
  {
   "cell_type": "markdown",
   "metadata": {},
   "source": [
    "## Plotting functions"
   ]
  },
  {
   "cell_type": "code",
   "execution_count": 9,
   "metadata": {},
   "outputs": [],
   "source": [
    "def dot_plot(data, subset=None, title=None, err=\"se\", add_legend=False,\n",
    "                              to_plot=\"proportion\", ylim=(0), fig_size=(3.5,3.5),\n",
    "                              jitter=False, alpha=0.3):\n",
    "    \"\"\"Plot closed circle of value per area for data.\n",
    "\n",
    "    Args:\n",
    "        data (DataFrame): Dataframe of proportions, included downsampled data.\n",
    "        subset (list, optional): List of what to subset on to plot. Defaults to None.\n",
    "        title (str, optional): Title for plot. Defaults to None.\n",
    "        err (str, optional): Error to plot, can be \"ci\", \"pi\", \"se\", or \"sd\". Defaults to \"se\".\n",
    "        add_legend (bool, optional): Whether to add legend labeling mean/err. Defaults to False.\n",
    "        to_plot (str, optional): Column to plot. Defaults to \"proportion\".\n",
    "        ylim (tuple, optional): lower bound for yaxis. Defaults to (0).\n",
    "        fig_size (tuple, optional): Dimensions (in inches) of plot. Defaults to (3.5,3.5).\n",
    "        jitter (bool, optional): Whether to have overlapping points. Defaults to False.\n",
    "        alpha (float, optional): How much transparency for points. Defaults to 0.3.\n",
    "    \"\"\"\n",
    "\n",
    "    if subset:\n",
    "        df = data[data[subset[0]]==subset[1]]\n",
    "    else:\n",
    "        df = data.copy()\n",
    "\n",
    "    fig, ax = plt.subplots()\n",
    "\n",
    "    sns.stripplot(x='species', y=to_plot, hue=\"species\",\n",
    "                   dodge=False, data=df, jitter=jitter, \n",
    "                   size=10, alpha=alpha)\n",
    "    sns.pointplot(df, x=\"species\", y=to_plot, hue=\"species\",\n",
    "              dodge=False, marker=\"+\", \n",
    "              ls=\"\", zorder=10, errorbar=\"se\")\n",
    "\n",
    "\n",
    "\n",
    "    ax.set_xlabel(\"\")\n",
    "\n",
    "    plt.title(title, size=20)\n",
    "    plt.ylim(ylim) # make sure y axis starts at 0\n",
    "    ax.spines['right'].set_visible(False)\n",
    "    ax.spines['top'].set_visible(False)\n",
    "\n",
    "    # set figure size\n",
    "    fig = plt.gcf()\n",
    "    fig.set_size_inches(fig_size[0],fig_size[1])\n",
    "\n",
    "    if add_legend:\n",
    "        legend = mlines.Line2D([], [], color=\"black\", marker=\"[]\", linewidth=0, label=\"mean, \"+err)\n",
    "        plt.legend(handles=[legend], loc=\"lower right\")\n",
    "    else:\n",
    "        plt.legend([],[], frameon=False)\n",
    "\n",
    "\n",
    "    return(fig)"
   ]
  },
  {
   "cell_type": "code",
   "execution_count": 10,
   "metadata": {},
   "outputs": [],
   "source": [
    "def plot_cdf(data, plot_areas, log=True, title=\"\", color_by=\"species\", colors=[blue_cmp.colors[255], orange_cmp.colors[255]],\n",
    "             individual=True, meta=metadata, legend=True, fig_size=(3,3), calc_cdf=True):\n",
    "    \"\"\"Takes in countN data and returns cdf plots\n",
    "\n",
    "    Args:\n",
    "        data (list): list of DataFrames of count(N), where each element in animal\n",
    "        plot_areas (list): list of strings of areas to include in final output\n",
    "        log (bool, optional): Whether to use log on axis scale. Defaults to True.\n",
    "        title (str, optional): figure title. Defaults to \"\".\n",
    "        color_by (str, optional): Can be \"mice\", \"species\", or \"dataset\", what to label as metadata. Defaults to \"species\".\n",
    "        colors (list, optional): colors used to label cdfs. Defaults to [blue_cmp.colors[255], orange_cmp.colors[255]].\n",
    "        individual (bool, optional): _description_. Defaults to True.\n",
    "        meta (_type_, optional): _description_. Defaults to metadata.\n",
    "        calc_cdf (bool, optional): Whether to calcualte cdf or not. Defaults to True.\n",
    "    \"\"\"\n",
    "\n",
    "\n",
    "    # calculate ecdf per animal and put into dataframe\n",
    "    if calc_cdf:\n",
    "        cdf_df, foo = dfs_to_cdf(data, plot_areas=plot_areas, metadata=meta)\n",
    "    else:\n",
    "        cdf_df = data.copy()\n",
    "\n",
    "    # calculate number of axes needed\n",
    "    n = math.ceil(len(plot_areas)/5) # round up divide by 4 = axs rows\n",
    "\n",
    "    if len(plot_areas)==1:\n",
    "        fig, ax = plt.subplots(1,1, figsize=(5,5))\n",
    "        ax_list = [ax]\n",
    "    else:\n",
    "        fig, axs = plt.subplots(n, 5, figsize=(20, 5*n))\n",
    "        ax_list = axs.flat\n",
    "\n",
    "    i = 0\n",
    "    for ax in ax_list:\n",
    "\n",
    "        if i < len(plot_areas):\n",
    "            area = plot_areas[i]\n",
    "\n",
    "            plot = cdf_df[cdf_df['area']==area]\n",
    "            \n",
    "            groups = plot[color_by].unique()\n",
    "\n",
    "            plot_1 = plot[plot[color_by] ==groups[0]]\n",
    "            plot_2 = plot[plot[color_by] ==groups[1]]\n",
    "\n",
    "            if individual:\n",
    "                sns.lineplot(plot_1, x=\"x\", y=\"cdf\", estimator=None, units=\"mice\", color=colors[0], ax=ax) # plots individual mice\n",
    "                sns.lineplot(plot_2, x=\"x\", y=\"cdf\", estimator=None, units=\"mice\", color=colors[1], ax=ax) # plots individual mice\n",
    "            else: \n",
    "                sns.lineplot(plot_1, x=\"x\", y=\"cdf\", ax=ax) # plots mean ci95\n",
    "                sns.lineplot(plot_2, x=\"x\", y=\"cdf\", ax=ax) # plots mean ci95\n",
    "            \n",
    "            # get rid of top and right axis\n",
    "            ax.spines['right'].set_visible(False)\n",
    "            ax.spines['top'].set_visible(False)\n",
    "\n",
    "            if log:\n",
    "                ax.set_xscale(\"log\")\n",
    "            ax.set_xlabel(\"Normalized Counts\")\n",
    "\n",
    "            ax.set_title(area)\n",
    "            i+=1\n",
    "        else:\n",
    "            ax.axis('off')\n",
    "\n",
    "    # create cutom legend\n",
    "    if legend:\n",
    "        colors = [colors[0], colors[1]]\n",
    "        lines = [mlines.Line2D([0], [0], color=c, linewidth=3) for c in colors]\n",
    "        labels = [groups[0], groups[1]]\n",
    "        fig.legend(lines,labels, bbox_to_anchor=(0.75, 0.935))\n",
    "\n",
    "    # increase text size\n",
    "    plt.rcParams.update({'font.size': 12})\n",
    "\n",
    "    if title!=\"\":\n",
    "        plt.suptitle(title, y=0.93, size=20)\n",
    "    elif title==\"\":\n",
    "        plt.suptitle(\"By \"+color_by, y=0.93, size=20)\n",
    "\n",
    "    # erase minor ticks\n",
    "    plt.minorticks_off()\n",
    "\n",
    "    # set figure size\n",
    "    fig = plt.gcf()\n",
    "    fig.set_size_inches(fig_size[0],fig_size[1])\n",
    "\n",
    "    return(fig)"
   ]
  },
  {
   "cell_type": "markdown",
   "metadata": {},
   "source": [
    "# Data pre-processing"
   ]
  },
  {
   "cell_type": "code",
   "execution_count": 11,
   "metadata": {},
   "outputs": [],
   "source": [
    "# initial processing\n",
    "# binary processing\n",
    "omc_clean = [clean_up_data(df) for df in omc_bin]\n",
    "omc_type = [sort_by_celltype(df) for df in omc_clean]\n",
    "\n",
    "# normalized count (countN) processing\n",
    "omc_cleanN = [clean_up_data(df) for df in omc_countN]\n",
    "omc_typeN = [sort_by_celltype(df) for df in omc_cleanN]\n",
    "means, omc_preprocessN = dfs_preprocess_counts(omc_typeN, norm_by=\"inj_mean\") # normalize by injection mean\n",
    "medians, omc_preprocessN_med = dfs_preprocess_counts(omc_typeN, norm_by=\"inj_median\")\n"
   ]
  },
  {
   "cell_type": "markdown",
   "metadata": {},
   "source": [
    "# Infectivity\n",
    "- Plots for supplementary fig No. 4"
   ]
  },
  {
   "cell_type": "code",
   "execution_count": 12,
   "metadata": {},
   "outputs": [
    {
     "name": "stdout",
     "output_type": "stream",
     "text": [
      "Mean\n"
     ]
    },
    {
     "data": {
      "text/plain": [
       "species\n",
       "MMus       14318.8\n",
       "STeg    711.285714\n",
       "Name: Unique Barcodes, dtype: object"
      ]
     },
     "metadata": {},
     "output_type": "display_data"
    },
    {
     "name": "stdout",
     "output_type": "stream",
     "text": [
      "SEM\n"
     ]
    },
    {
     "data": {
      "text/plain": [
       "species\n",
       "MMus    2545.992231\n",
       "STeg      99.115304\n",
       "Name: Unique Barcodes, dtype: float64"
      ]
     },
     "execution_count": 12,
     "metadata": {},
     "output_type": "execute_result"
    }
   ],
   "source": [
    "# Plot unique barcodes by species\n",
    "\n",
    "infect_df = pd.DataFrame(columns=[\"Unique Barcodes\", \"mice\", \"species\", \"dataset\"])\n",
    "\n",
    "for i in range(metadata.shape[0]):\n",
    "    infect_df.loc[i,\"Unique Barcodes\"] = omc_type[i].shape[0]\n",
    "    infect_df.loc[i, \"mice\"] = metadata.loc[i,\"mice\"]\n",
    "    infect_df.loc[i,\"species\"] = metadata.loc[i, \"species\"]\n",
    "    infect_df.loc[i, \"dataset\"] = metadata.loc[i, \"dataset\"]\n",
    "\n",
    "print(\"Mean\")\n",
    "display(infect_df.groupby(\"species\")[\"Unique Barcodes\"].mean())\n",
    "\n",
    "print(\"SEM\")\n",
    "infect_df.groupby(\"species\")[\"Unique Barcodes\"].sem()\n"
   ]
  },
  {
   "cell_type": "code",
   "execution_count": 13,
   "metadata": {},
   "outputs": [
    {
     "data": {
      "image/png": "[encoded data removed]",
      "text/plain": [
       "<Figure size 300x300 with 1 Axes>"
      ]
     },
     "metadata": {},
     "output_type": "display_data"
    }
   ],
   "source": [
    "\n",
    "dot_plot(infect_df, to_plot=\"Unique Barcodes\", fig_size=(3,3))\n",
    "plt.yscale(\"log\")\n",
    "plt.ylim(100, 30000)\n",
    "plt.minorticks_off()\n",
    "# plt.savefig(out_path+\"infectivity_uBC_dotplot.svg\", dpi=300, bbox_inches=\"tight\")\n",
    "plt.show()"
   ]
  },
  {
   "cell_type": "code",
   "execution_count": 14,
   "metadata": {},
   "outputs": [
    {
     "name": "stderr",
     "output_type": "stream",
     "text": [
      "/var/folders/l2/gvq0gkm95b1fbrlls4tsq2wr0000gp/T/ipykernel_5993/1917251269.py:22: FutureWarning: The behavior of DataFrame concatenation with empty or all-NA entries is deprecated. In a future version, this will no longer exclude empty or all-NA columns when determining the result dtypes. To retain the old behavior, exclude the relevant entries before the concat operation.\n",
      "  all_bc = pd.concat([all_bc, df])\n",
      "/var/folders/l2/gvq0gkm95b1fbrlls4tsq2wr0000gp/T/ipykernel_5993/1917251269.py:52: FutureWarning: The behavior of DataFrame concatenation with empty or all-NA entries is deprecated. In a future version, this will no longer exclude empty or all-NA columns when determining the result dtypes. To retain the old behavior, exclude the relevant entries before the concat operation.\n",
      "  cdf_df = pd.concat([cdf_df, int])\n"
     ]
    },
    {
     "data": {
      "image/png": "[encoded data removed]",
      "text/plain": [
       "<Figure size 200x200 with 1 Axes>"
      ]
     },
     "metadata": {},
     "output_type": "display_data"
    }
   ],
   "source": [
    "# plot barcode count per neuron for injection site (OMCi)\n",
    "\n",
    "# NO WITHIN SAMPLE NORM - i.e. only normalized to spike-ins\n",
    "plot_cdf(omc_typeN, plot_areas=[\"OMCi\"], color_by=\"species\",\n",
    "         title=None, legend=False, individual=False, fig_size=(2,2))\n",
    "plt.title(\"OMCi\")\n",
    "# plt.savefig(out_path+\"omci_rnaspike_norm_cdf.svg\", dpi=300, bbox_inches=\"tight\")\n",
    "plt.show()\n"
   ]
  },
  {
   "cell_type": "code",
   "execution_count": 15,
   "metadata": {},
   "outputs": [
    {
     "name": "stdout",
     "output_type": "stream",
     "text": [
      "Mean\n",
      "species\n",
      "MMus    0.039977\n",
      "STeg    0.129038\n",
      "Name: inj_med, dtype: float64\n",
      "\n",
      "SEM\n",
      "species\n",
      "MMus    0.022244\n",
      "STeg    0.041240\n",
      "Name: inj_med, dtype: float64\n",
      "MannwhitneyuResult(statistic=6.0, pvalue=0.07323232323232323)\n"
     ]
    },
    {
     "data": {
      "image/png": "[encoded data removed]",
      "text/plain": [
       "<Figure size 350x350 with 1 Axes>"
      ]
     },
     "metadata": {},
     "output_type": "display_data"
    }
   ],
   "source": [
    "# take medians for each animal\n",
    "omc_typeN[0][\"OMCi\"].median()\n",
    "medians_omci = []\n",
    "for i in range(metadata.shape[0]):\n",
    "    medians_omci.append(omc_typeN[i][\"OMCi\"].median())\n",
    "\n",
    "omci_med = metadata.copy()\n",
    "omci_med[\"inj_med\"] = medians_omci\n",
    "omci_med[\"area\"] = \"OMCi\"\n",
    "\n",
    "# calcualte mean, sem for each species\n",
    "print(\"Mean\")\n",
    "print(omci_med.groupby(\"species\")[\"inj_med\"].mean())\n",
    "\n",
    "print(\"\\nSEM\")\n",
    "print(omci_med.groupby(\"species\")[\"inj_med\"].sem())\n",
    "\n",
    "# Mann whitney u test\n",
    "mm_med = omci_med[omci_med[\"species\"]==\"MMus\"]\n",
    "st_med = omci_med[omci_med[\"species\"]==\"STeg\"]\n",
    "\n",
    "print(stats.mannwhitneyu(mm_med[\"inj_med\"], st_med[\"inj_med\"]))\n",
    "\n",
    "dot_plot(omci_med, to_plot=\"inj_med\")\n",
    "plt.show()\n"
   ]
  },
  {
   "cell_type": "code",
   "execution_count": null,
   "metadata": {},
   "outputs": [],
   "source": []
  }
 ],
 "metadata": {
  "kernelspec": {
   "display_name": "MAPseq_231109",
   "language": "python",
   "name": "python3"
  },
  "language_info": {
   "codemirror_mode": {
    "name": "ipython",
    "version": 3
   },
   "file_extension": ".py",
   "mimetype": "text/x-python",
   "name": "python",
   "nbconvert_exporter": "python",
   "pygments_lexer": "ipython3",
   "version": "3.12.0"
  }
 },
 "nbformat": 4,
 "nbformat_minor": 2
}
